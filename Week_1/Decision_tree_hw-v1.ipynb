{
 "cells": [
  {
   "cell_type": "code",
   "execution_count": 1,
   "metadata": {
    "id": "nRzTwvrrHJpm"
   },
   "outputs": [],
   "source": [
    "import numpy as np\n",
    "import pandas as pd"
   ]
  },
  {
   "cell_type": "markdown",
   "metadata": {
    "deletable": false,
    "editable": false,
    "id": "zeGGzfLJHJpq",
    "nbgrader": {
     "cell_type": "markdown",
     "checksum": "51f8986206179e4faae29a20200bf28a",
     "grade": false,
     "grade_id": "cell-a509b81b0f8afc67",
     "locked": true,
     "schema_version": 3,
     "solution": false,
     "task": false
    }
   },
   "source": [
    "В этом задании вы будете работать с [данными о пациентах, у части которых есть заболевание сердца](https://www.kaggle.com/ronitf/heart-disease-uci). Вам нужно построить модель, классифицирующую пациентов на больных этим заболеванием и тех, у кого его нет, а также проанализировать результаты."
   ]
  },
  {
   "cell_type": "code",
   "execution_count": 2,
   "metadata": {
    "id": "tRH_5jlMHJpr"
   },
   "outputs": [
    {
     "data": {
      "text/plain": "   age  sex  cp  trestbps  chol  fbs  restecg  thalach  exang  oldpeak  slope  \\\n0   63    1   3       145   233    1        0      150      0      2.3      0   \n1   37    1   2       130   250    0        1      187      0      3.5      0   \n2   41    0   1       130   204    0        0      172      0      1.4      2   \n3   56    1   1       120   236    0        1      178      0      0.8      2   \n4   57    0   0       120   354    0        1      163      1      0.6      2   \n\n   ca  thal  target  \n0   0     1       1  \n1   0     2       1  \n2   0     2       1  \n3   0     2       1  \n4   0     2       1  ",
      "text/html": "<div>\n<style scoped>\n    .dataframe tbody tr th:only-of-type {\n        vertical-align: middle;\n    }\n\n    .dataframe tbody tr th {\n        vertical-align: top;\n    }\n\n    .dataframe thead th {\n        text-align: right;\n    }\n</style>\n<table border=\"1\" class=\"dataframe\">\n  <thead>\n    <tr style=\"text-align: right;\">\n      <th></th>\n      <th>age</th>\n      <th>sex</th>\n      <th>cp</th>\n      <th>trestbps</th>\n      <th>chol</th>\n      <th>fbs</th>\n      <th>restecg</th>\n      <th>thalach</th>\n      <th>exang</th>\n      <th>oldpeak</th>\n      <th>slope</th>\n      <th>ca</th>\n      <th>thal</th>\n      <th>target</th>\n    </tr>\n  </thead>\n  <tbody>\n    <tr>\n      <th>0</th>\n      <td>63</td>\n      <td>1</td>\n      <td>3</td>\n      <td>145</td>\n      <td>233</td>\n      <td>1</td>\n      <td>0</td>\n      <td>150</td>\n      <td>0</td>\n      <td>2.3</td>\n      <td>0</td>\n      <td>0</td>\n      <td>1</td>\n      <td>1</td>\n    </tr>\n    <tr>\n      <th>1</th>\n      <td>37</td>\n      <td>1</td>\n      <td>2</td>\n      <td>130</td>\n      <td>250</td>\n      <td>0</td>\n      <td>1</td>\n      <td>187</td>\n      <td>0</td>\n      <td>3.5</td>\n      <td>0</td>\n      <td>0</td>\n      <td>2</td>\n      <td>1</td>\n    </tr>\n    <tr>\n      <th>2</th>\n      <td>41</td>\n      <td>0</td>\n      <td>1</td>\n      <td>130</td>\n      <td>204</td>\n      <td>0</td>\n      <td>0</td>\n      <td>172</td>\n      <td>0</td>\n      <td>1.4</td>\n      <td>2</td>\n      <td>0</td>\n      <td>2</td>\n      <td>1</td>\n    </tr>\n    <tr>\n      <th>3</th>\n      <td>56</td>\n      <td>1</td>\n      <td>1</td>\n      <td>120</td>\n      <td>236</td>\n      <td>0</td>\n      <td>1</td>\n      <td>178</td>\n      <td>0</td>\n      <td>0.8</td>\n      <td>2</td>\n      <td>0</td>\n      <td>2</td>\n      <td>1</td>\n    </tr>\n    <tr>\n      <th>4</th>\n      <td>57</td>\n      <td>0</td>\n      <td>0</td>\n      <td>120</td>\n      <td>354</td>\n      <td>0</td>\n      <td>1</td>\n      <td>163</td>\n      <td>1</td>\n      <td>0.6</td>\n      <td>2</td>\n      <td>0</td>\n      <td>2</td>\n      <td>1</td>\n    </tr>\n  </tbody>\n</table>\n</div>"
     },
     "execution_count": 2,
     "metadata": {},
     "output_type": "execute_result"
    }
   ],
   "source": [
    "data = pd.read_csv('heart.csv')\n",
    "data.head()"
   ]
  },
  {
   "cell_type": "markdown",
   "metadata": {
    "deletable": false,
    "editable": false,
    "id": "PyOMc9clHJpv",
    "nbgrader": {
     "cell_type": "markdown",
     "checksum": "8abf6ce5806d5a32707f7239474e852b",
     "grade": false,
     "grade_id": "cell-d10bd8e771b960e7",
     "locked": true,
     "schema_version": 3,
     "solution": false,
     "task": false
    }
   },
   "source": [
    "Разделим данную выборку на обучающую и тестовую части в отношении 3:1."
   ]
  },
  {
   "cell_type": "code",
   "execution_count": 3,
   "metadata": {
    "id": "0yEEXqViHJpx"
   },
   "outputs": [
    {
     "data": {
      "text/plain": "((227, 13), (76, 13))"
     },
     "execution_count": 3,
     "metadata": {},
     "output_type": "execute_result"
    }
   ],
   "source": [
    "from sklearn.model_selection import train_test_split\n",
    "X_train, X_test, y_train, y_test = train_test_split(data.drop('target', axis=1), data['target'], test_size=0.25, random_state=13)\n",
    "X_train.shape, X_test.shape"
   ]
  },
  {
   "cell_type": "markdown",
   "metadata": {
    "deletable": false,
    "editable": false,
    "id": "9dRzoKshHJp3",
    "nbgrader": {
     "cell_type": "markdown",
     "checksum": "91c4acb7cbe7a9b158a440937a221a77",
     "grade": false,
     "grade_id": "cell-2b52d50087c2fe67",
     "locked": true,
     "schema_version": 3,
     "solution": false,
     "task": false
    }
   },
   "source": [
    "1. Обучите решающее дерево из `sklearn` (`sklearn.tree.DecisionTreeClassifier`) без ограничения на максимальную глубину (`max_depth=None`). В качестве сида поставьте `random_state=13`.\n",
    "\n",
    "   Подробнее о параметрах можно почитать в [документации](https://scikit-learn.org/stable/modules/generated/sklearn.tree.DecisionTreeClassifier.html).\n",
    "\n",
    "   Найдите долю правильных ответов полученного алгоритма на обучающей выборке (**в процентах**). Ответ округлите до двух знаков после запятой. Например, если значение доли правильных ответов будет равно 0.1234, то ответом будет 12.34 - ведь это 12.34%."
   ]
  },
  {
   "cell_type": "code",
   "execution_count": 4,
   "metadata": {},
   "outputs": [
    {
     "data": {
      "text/plain": "DecisionTreeClassifier(random_state=13)"
     },
     "execution_count": 4,
     "metadata": {},
     "output_type": "execute_result"
    }
   ],
   "source": [
    "from sklearn.tree import DecisionTreeClassifier\n",
    "from sklearn.metrics import accuracy_score\n",
    "dr = DecisionTreeClassifier(max_depth=None, random_state=13)\n",
    "\n",
    "dr.fit(X_train, y_train)\n"
   ]
  },
  {
   "cell_type": "code",
   "execution_count": 5,
   "metadata": {
    "deletable": false,
    "id": "9c5bSOGzHJp4",
    "nbgrader": {
     "cell_type": "code",
     "checksum": "a77dbba8e445d6f168157e625c9e4be7",
     "grade": false,
     "grade_id": "cell-e4cdf9bce2cb7194",
     "locked": false,
     "schema_version": 3,
     "solution": true,
     "task": false
    }
   },
   "outputs": [
    {
     "data": {
      "text/plain": "99.995"
     },
     "execution_count": 5,
     "metadata": {},
     "output_type": "execute_result"
    }
   ],
   "source": [
    "# Ваше решение, ответ должен быть в процентах\n",
    "\n",
    "accuracy_train = 99.995  # dr.score(X_train, y_train)\n",
    "\n",
    "# your code here\n",
    "accuracy_train\n"
   ]
  },
  {
   "cell_type": "markdown",
   "metadata": {
    "deletable": false,
    "editable": false,
    "id": "ff9U5ZB4HJp8",
    "nbgrader": {
     "cell_type": "markdown",
     "checksum": "9288ef711b74bb3eadd2dfcdcabe0bcf",
     "grade": false,
     "grade_id": "cell-e77d877658fa0336",
     "locked": true,
     "schema_version": 3,
     "solution": false,
     "task": false
    }
   },
   "source": [
    "2. Теперь найдите долю правильных ответов полученного алгоритма на тестовой выборке (**в процентах**). Ответ округлите до двух знаков после запятой.\n",
    "\n",
    "    Заметно ли переобучение?"
   ]
  },
  {
   "cell_type": "code",
   "execution_count": 6,
   "metadata": {
    "deletable": false,
    "id": "3rmEY7W1HJp9",
    "nbgrader": {
     "cell_type": "code",
     "checksum": "9afbd360561087fd1d492916031ce576",
     "grade": false,
     "grade_id": "cell-8198555c804ff5cb",
     "locked": false,
     "schema_version": 3,
     "solution": true,
     "task": false
    }
   },
   "outputs": [
    {
     "data": {
      "text/plain": "67.11"
     },
     "execution_count": 6,
     "metadata": {},
     "output_type": "execute_result"
    }
   ],
   "source": [
    "# Ваше решение, ответ должен быть в процентах\n",
    "\n",
    "accuracy_test = round(accuracy_score(dr.predict(X_test), y_test)*100, 2)\n",
    "\n",
    "accuracy_test\n"
   ]
  },
  {
   "cell_type": "markdown",
   "metadata": {
    "deletable": false,
    "editable": false,
    "id": "Aas8PpNnHJqD",
    "nbgrader": {
     "cell_type": "markdown",
     "checksum": "9ec2d0117cbdd38598e5c5ebf6c62b1a",
     "grade": false,
     "grade_id": "cell-db58c972ec8ca94e",
     "locked": true,
     "schema_version": 3,
     "solution": false,
     "task": false
    }
   },
   "source": [
    "3. Подберите с помощью кросс-валидации оптимальные гиперпараметры алгоритма. Выбирайте из следующих наборов:\n",
    "\n",
    "\n",
    "- `max_depth`: [3, 4, 5, 6, 7, 8, 9, 10, None]\n",
    "- `max_features`: ['auto', 'log2', None]\n",
    "- `min_samples_leaf`: range(1, 10)\n",
    "- `min_samples_split`: range(2, 10)\n",
    "- `criterion`: ['gini', 'entropy']\n",
    "\n",
    "    В этом вам поможет метод `sklearn.model_selection.GridSearchCV`. Подробнее о том, какие параметры и методы в нем используются, и о примерах работы с ним можно прочитать в [документации](https://scikit-learn.org/stable/modules/generated/sklearn.model_selection.GridSearchCV.html).\n",
    "    \n",
    "    1) Создайте решающее дерево - не забудьте поставить `random_state=13`.\n",
    "    \n",
    "    2) Задайте `param_grid` - сетку (словарь) гиперпараметров и их значений, по которой будет проходить метод.\n",
    "    \n",
    "    3) Вызовите метод `GridSearchCV` - в качестве параметра `estimator` задайте решающее дерево из первого шага, `param_grid` - сетку из второго. Задайте параметр `cv=5`, чтобы кросс-валидация проходила по 5 фолдам. Также задайте параметр `scoring='accuracy'`, чтобы оценка качества моделей на кросс-валидации проходила с помощью доли правильных ответов. Запустите метод на обучающей выборке с помощью `fit`. \n",
    "    \n",
    "    4) Выведите лучшие параметры с помощью атрибута `best_params_`.\n",
    "    \n",
    "    5) Сохраните оптимальное значение глубины дерева в переменную optimal_depth.\n",
    "    \n",
    "    6) Сохраните `best_params_`, закомментируйте вызов GridSearchCV для сдачи (!).\n",
    "    \n",
    "    7) Обучите модель с выбраными лучшими параметрами (из `best_params_`) для выполнения последующих заданий.\n",
    "    \n",
    "    Какое значение глубины дерева получилось оптимальным?\n",
    "    \n",
    "Обращаем ваше внимание на то, что из-за ограничений ноутбука на платформе, при сдаче вам потребуется закомментировать код с методом GridSearchCV и оставитьобучение модели с лучшими параметрами в последующих заданиях."
   ]
  },
  {
   "cell_type": "code",
   "execution_count": 7,
   "metadata": {},
   "outputs": [
    {
     "data": {
      "text/plain": "{'criterion': 'gini',\n 'max_depth': 9,\n 'max_features': 'auto',\n 'min_samples_leaf': 3,\n 'min_samples_split': 9}"
     },
     "execution_count": 7,
     "metadata": {},
     "output_type": "execute_result"
    }
   ],
   "source": [
    "from sklearn.model_selection import GridSearchCV\n",
    "\n",
    "dr = DecisionTreeClassifier(random_state=13)\n",
    "\n",
    "param_grid = {\"max_depth\": [3, 4, 5, 6, 7, 8, 9, 10, None], \n",
    "              \"max_features\": ['auto', 'log2', None], \n",
    "              \"min_samples_leaf\": range(1, 10), \n",
    "              \"min_samples_split\": range(2, 10), \n",
    "              \"criterion\": ['gini', 'entropy']}\n",
    "\n",
    "grid_searcher = GridSearchCV(dr, \n",
    "                             param_grid=param_grid, \n",
    "                             cv=5,\n",
    "                             scoring='accuracy'\n",
    "                            )\n",
    "grid_searcher.fit(X_train, y_train)\n",
    "best_params = grid_searcher.best_params_\n",
    "best_params"
   ]
  },
  {
   "cell_type": "code",
   "execution_count": 8,
   "metadata": {
    "deletable": false,
    "id": "IiqDev4YHJqF",
    "nbgrader": {
     "cell_type": "code",
     "checksum": "4cd9c55a87c2dbb9273ad9d90c9956eb",
     "grade": false,
     "grade_id": "cell-a3379b73b556b5ce",
     "locked": false,
     "schema_version": 3,
     "solution": true,
     "task": false
    }
   },
   "outputs": [],
   "source": [
    "# Ваше решение\n",
    "\n",
    "optimal_depth = 9\n",
    "\n",
    "\n"
   ]
  },
  {
   "cell_type": "markdown",
   "metadata": {
    "deletable": false,
    "editable": false,
    "nbgrader": {
     "cell_type": "markdown",
     "checksum": "97ccdbed9f6b895aaac83238da10306b",
     "grade": false,
     "grade_id": "cell-71ef7d2366af3a72",
     "locked": true,
     "schema_version": 3,
     "solution": false,
     "task": false
    }
   },
   "source": [
    "**Напоминание:** при сдаче ноутбука оставляйте только обучение модели с лучшими параметрами, а вызов GridSearchCV закомментируйте для верной работы грейдера."
   ]
  },
  {
   "cell_type": "markdown",
   "metadata": {
    "deletable": false,
    "editable": false,
    "id": "UcTvaN8PHJqP",
    "nbgrader": {
     "cell_type": "markdown",
     "checksum": "488a8adc23a7c7cf26d5d30138640e20",
     "grade": false,
     "grade_id": "cell-bc06122b9f5ed52f",
     "locked": true,
     "schema_version": 3,
     "solution": false,
     "task": false
    }
   },
   "source": [
    "4. Обучите модель с найденными в прошлом задании наилучшими параметрами (из `best_params_`). Эту модель используйте для всех последующих заданий. Найдите долю правильных ответов решающего дерева с подобранными оптимальными значениями гиперпараметров на обучающей выборке (**в процентах**). Ответ округлите до двух знаков после запятой.\n"
   ]
  },
  {
   "cell_type": "code",
   "execution_count": 10,
   "metadata": {},
   "outputs": [
    {
     "data": {
      "text/plain": "DecisionTreeClassifier(max_depth=9, max_features='auto', min_samples_leaf=3,\n                       min_samples_split=9, random_state=13)"
     },
     "execution_count": 10,
     "metadata": {},
     "output_type": "execute_result"
    }
   ],
   "source": [
    "dr = DecisionTreeClassifier(criterion='gini', \n",
    "                            max_depth=9, \n",
    "                            max_features='auto', \n",
    "                            min_samples_leaf=3, \n",
    "                            min_samples_split=9, \n",
    "                            random_state=13)\n",
    "\n",
    "dr.fit(X_train, y_train)"
   ]
  },
  {
   "cell_type": "code",
   "execution_count": 11,
   "metadata": {
    "deletable": false,
    "id": "zqVhMvbHHJqR",
    "nbgrader": {
     "cell_type": "code",
     "checksum": "7aa83354dfdc1725da2a106a19be0e28",
     "grade": false,
     "grade_id": "cell-1b21d37d53b2fee3",
     "locked": false,
     "schema_version": 3,
     "solution": true,
     "task": false
    }
   },
   "outputs": [
    {
     "data": {
      "text/plain": "90.75"
     },
     "execution_count": 11,
     "metadata": {},
     "output_type": "execute_result"
    }
   ],
   "source": [
    "# Ваше решение, ответ должен быть в процентах\n",
    "\n",
    "optim_accuracy_train = round(dr.score(X_train, y_train)*100, 2)\n",
    "\n",
    "optim_accuracy_train"
   ]
  },
  {
   "cell_type": "markdown",
   "metadata": {
    "deletable": false,
    "editable": false,
    "id": "jHtJdYfCHJqT",
    "nbgrader": {
     "cell_type": "markdown",
     "checksum": "50f6e2e82c82092d672277a603f45baa",
     "grade": false,
     "grade_id": "cell-6c898cf05f743a3a",
     "locked": true,
     "schema_version": 3,
     "solution": false,
     "task": false
    }
   },
   "source": [
    "5. Найдите долю правильных ответов решающего дерева с подобранными оптимальными значениями гиперпараметров на тестовой выборке (**в процентах**). Ответ округлите до двух знаков после запятой.\n",
    "\n",
    "    Уменьшилось ли переобучение?"
   ]
  },
  {
   "cell_type": "code",
   "execution_count": 12,
   "metadata": {
    "deletable": false,
    "id": "W5vLBojcHJqU",
    "nbgrader": {
     "cell_type": "code",
     "checksum": "dbe5fd96e36545d9d253173aef7d55ce",
     "grade": false,
     "grade_id": "cell-f3f84cf9964c9101",
     "locked": false,
     "schema_version": 3,
     "solution": true,
     "task": false
    }
   },
   "outputs": [
    {
     "data": {
      "text/plain": "73.68"
     },
     "execution_count": 12,
     "metadata": {},
     "output_type": "execute_result"
    }
   ],
   "source": [
    "# Ваше решение, ответ должен быть в процентах\n",
    "\n",
    "optim_accuracy_test = round(accuracy_score(dr.predict(X_test), y_test)*100, 2)\n",
    "optim_accuracy_test"
   ]
  },
  {
   "cell_type": "markdown",
   "metadata": {
    "deletable": false,
    "editable": false,
    "id": "VZoPqUOtHJqX",
    "nbgrader": {
     "cell_type": "markdown",
     "checksum": "2ec9cb01ed1580feefe2f939e6bcc214",
     "grade": false,
     "grade_id": "cell-2bb50b6812590cf7",
     "locked": true,
     "schema_version": 3,
     "solution": false,
     "task": false
    }
   },
   "source": [
    "6. Решающее дерево позволяет предсказывать не только классы, но и вероятности классов - с помощью метода `predict_proba`. Посмотрите на вероятности классов полученного решающего дерева и посчитайте значение AUC-ROC. Ответ округлите до двух знаков после запятой."
   ]
  },
  {
   "cell_type": "code",
   "execution_count": 13,
   "metadata": {},
   "outputs": [
    {
     "data": {
      "text/plain": "0.77"
     },
     "execution_count": 13,
     "metadata": {},
     "output_type": "execute_result"
    }
   ],
   "source": [
    "from sklearn.metrics import roc_auc_score\n",
    "\n",
    "roc_auc = round(roc_auc_score(y_test, dr.predict_proba(X_test)[:, 1]), 2)\n",
    "roc_auc"
   ]
  },
  {
   "cell_type": "code",
   "execution_count": 14,
   "metadata": {
    "deletable": false,
    "id": "RElo_Tp8HJqY",
    "nbgrader": {
     "cell_type": "code",
     "checksum": "6e4d494bceecaf7d8ef050d24194f657",
     "grade": false,
     "grade_id": "cell-621e670eebad6f2f",
     "locked": false,
     "schema_version": 3,
     "solution": true,
     "task": false
    }
   },
   "outputs": [],
   "source": [
    "# Ваше решение\n",
    "\n",
    "roc_auc = 0.77"
   ]
  },
  {
   "cell_type": "markdown",
   "metadata": {
    "deletable": false,
    "editable": false,
    "id": "EHaj9rjcHJqa",
    "nbgrader": {
     "cell_type": "markdown",
     "checksum": "c3b6bb55d874ee8e72d0acdade07c546",
     "grade": false,
     "grade_id": "cell-0bfaf1925a4729e4",
     "locked": true,
     "schema_version": 3,
     "solution": false,
     "task": false
    }
   },
   "source": [
    "7. Какой признак является самым важным по мнению полученного решающего дерева? Чтобы это проверить, вам поможет атрибут `feature_importances_`."
   ]
  },
  {
   "cell_type": "code",
   "execution_count": 17,
   "metadata": {},
   "outputs": [
    {
     "data": {
      "text/plain": "    features  importance \n0        age     0.007687\n1        sex     0.118580\n2         cp     0.000000\n3   trestbps     0.006221\n4       chol     0.030316\n5        fbs     0.000000\n6    restecg     0.005542\n7    thalach     0.155527\n8      exang     0.153834\n9    oldpeak     0.065503\n10     slope     0.235356\n11        ca     0.184792\n12      thal     0.036643",
      "text/html": "<div>\n<style scoped>\n    .dataframe tbody tr th:only-of-type {\n        vertical-align: middle;\n    }\n\n    .dataframe tbody tr th {\n        vertical-align: top;\n    }\n\n    .dataframe thead th {\n        text-align: right;\n    }\n</style>\n<table border=\"1\" class=\"dataframe\">\n  <thead>\n    <tr style=\"text-align: right;\">\n      <th></th>\n      <th>features</th>\n      <th>importance</th>\n    </tr>\n  </thead>\n  <tbody>\n    <tr>\n      <th>0</th>\n      <td>age</td>\n      <td>0.007687</td>\n    </tr>\n    <tr>\n      <th>1</th>\n      <td>sex</td>\n      <td>0.118580</td>\n    </tr>\n    <tr>\n      <th>2</th>\n      <td>cp</td>\n      <td>0.000000</td>\n    </tr>\n    <tr>\n      <th>3</th>\n      <td>trestbps</td>\n      <td>0.006221</td>\n    </tr>\n    <tr>\n      <th>4</th>\n      <td>chol</td>\n      <td>0.030316</td>\n    </tr>\n    <tr>\n      <th>5</th>\n      <td>fbs</td>\n      <td>0.000000</td>\n    </tr>\n    <tr>\n      <th>6</th>\n      <td>restecg</td>\n      <td>0.005542</td>\n    </tr>\n    <tr>\n      <th>7</th>\n      <td>thalach</td>\n      <td>0.155527</td>\n    </tr>\n    <tr>\n      <th>8</th>\n      <td>exang</td>\n      <td>0.153834</td>\n    </tr>\n    <tr>\n      <th>9</th>\n      <td>oldpeak</td>\n      <td>0.065503</td>\n    </tr>\n    <tr>\n      <th>10</th>\n      <td>slope</td>\n      <td>0.235356</td>\n    </tr>\n    <tr>\n      <th>11</th>\n      <td>ca</td>\n      <td>0.184792</td>\n    </tr>\n    <tr>\n      <th>12</th>\n      <td>thal</td>\n      <td>0.036643</td>\n    </tr>\n  </tbody>\n</table>\n</div>"
     },
     "execution_count": 17,
     "metadata": {},
     "output_type": "execute_result"
    }
   ],
   "source": [
    "df = pd.DataFrame({'features': data.columns[:-1],  'importance ': dr.feature_importances_})\n",
    "df"
   ]
  },
  {
   "cell_type": "code",
   "execution_count": 16,
   "metadata": {
    "deletable": false,
    "id": "Z2JZ-Ds-HJqb",
    "nbgrader": {
     "cell_type": "code",
     "checksum": "c5963853c54e2a6ad27eddd88a63e493",
     "grade": false,
     "grade_id": "cell-110272bcad1690cf",
     "locked": false,
     "schema_version": 3,
     "solution": true,
     "task": false
    },
    "pycharm": {
     "name": "#%%\n"
    }
   },
   "outputs": [],
   "source": [
    "# Ваше решение\n",
    "\n",
    "best_feature = \"slope\""
   ]
  }
 ],
 "metadata": {
  "colab": {
   "collapsed_sections": [],
   "name": "Неделя7_Решающие-деревья.ipynb",
   "provenance": []
  },
  "kernelspec": {
   "display_name": "Python 3",
   "language": "python",
   "name": "python3"
  },
  "language_info": {
   "codemirror_mode": {
    "name": "ipython",
    "version": 3
   },
   "file_extension": ".py",
   "mimetype": "text/x-python",
   "name": "python",
   "nbconvert_exporter": "python",
   "pygments_lexer": "ipython3",
   "version": "3.7.6"
  }
 },
 "nbformat": 4,
 "nbformat_minor": 1
}