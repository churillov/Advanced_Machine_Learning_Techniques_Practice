{
 "cells": [
  {
   "cell_type": "markdown",
   "metadata": {
    "deletable": false,
    "editable": false,
    "id": "wP103Mzpjnge",
    "nbgrader": {
     "cell_type": "markdown",
     "checksum": "752da01fa7b4f9d85cb0681fc9a880c4",
     "grade": false,
     "grade_id": "cell-102f983e1dd9d4a2",
     "locked": true,
     "schema_version": 3,
     "solution": false,
     "task": false
    }
   },
   "source": [
    "1. Загрузите данные load_wine из sklearn.datasets. Из обучающей части исключите объекты класса 2. Обучите случайный лес, задав только гиперпараметры `n_estimators=25` и `random_state=0`. Оцените важность признаков. Укажите название двух наиболее важных признаков. "
   ]
  },
  {
   "cell_type": "code",
   "execution_count": 242,
   "metadata": {
    "id": "ksz6uSlzjdXD"
   },
   "outputs": [],
   "source": [
    "from sklearn.datasets import load_wine\n",
    "import pandas as pd \n",
    "from sklearn.ensemble import BaggingClassifier\n",
    "data = load_wine()\n",
    "dataframe = pd.DataFrame(data.data,  columns=data.feature_names)\n",
    "dataframe['target'] = data['target']\n",
    "dataframe = dataframe[dataframe['target'] != 2] \n",
    "\n",
    "x = dataframe.drop('target', 1)\n",
    "y = dataframe['target']"
   ]
  },
  {
   "cell_type": "code",
   "execution_count": 243,
   "metadata": {},
   "outputs": [
    {
     "data": {
      "text/plain": "           p                         names\n0   0.128117                       alcohol\n1   0.008851                    malic_acid\n2   0.002901                           ash\n3   0.001807             alcalinity_of_ash\n4   0.019428                     magnesium\n5   0.000645                 total_phenols\n6   0.011765                    flavanoids\n7   0.000824          nonflavanoid_phenols\n8   0.002472               proanthocyanins\n9   0.060737               color_intensity\n10  0.000000                           hue\n11  0.000291  od280/od315_of_diluted_wines\n12  0.762162                       proline",
      "text/html": "<div>\n<style scoped>\n    .dataframe tbody tr th:only-of-type {\n        vertical-align: middle;\n    }\n\n    .dataframe tbody tr th {\n        vertical-align: top;\n    }\n\n    .dataframe thead th {\n        text-align: right;\n    }\n</style>\n<table border=\"1\" class=\"dataframe\">\n  <thead>\n    <tr style=\"text-align: right;\">\n      <th></th>\n      <th>p</th>\n      <th>names</th>\n    </tr>\n  </thead>\n  <tbody>\n    <tr>\n      <th>0</th>\n      <td>0.128117</td>\n      <td>alcohol</td>\n    </tr>\n    <tr>\n      <th>1</th>\n      <td>0.008851</td>\n      <td>malic_acid</td>\n    </tr>\n    <tr>\n      <th>2</th>\n      <td>0.002901</td>\n      <td>ash</td>\n    </tr>\n    <tr>\n      <th>3</th>\n      <td>0.001807</td>\n      <td>alcalinity_of_ash</td>\n    </tr>\n    <tr>\n      <th>4</th>\n      <td>0.019428</td>\n      <td>magnesium</td>\n    </tr>\n    <tr>\n      <th>5</th>\n      <td>0.000645</td>\n      <td>total_phenols</td>\n    </tr>\n    <tr>\n      <th>6</th>\n      <td>0.011765</td>\n      <td>flavanoids</td>\n    </tr>\n    <tr>\n      <th>7</th>\n      <td>0.000824</td>\n      <td>nonflavanoid_phenols</td>\n    </tr>\n    <tr>\n      <th>8</th>\n      <td>0.002472</td>\n      <td>proanthocyanins</td>\n    </tr>\n    <tr>\n      <th>9</th>\n      <td>0.060737</td>\n      <td>color_intensity</td>\n    </tr>\n    <tr>\n      <th>10</th>\n      <td>0.000000</td>\n      <td>hue</td>\n    </tr>\n    <tr>\n      <th>11</th>\n      <td>0.000291</td>\n      <td>od280/od315_of_diluted_wines</td>\n    </tr>\n    <tr>\n      <th>12</th>\n      <td>0.762162</td>\n      <td>proline</td>\n    </tr>\n  </tbody>\n</table>\n</div>"
     },
     "execution_count": 243,
     "metadata": {},
     "output_type": "execute_result"
    }
   ],
   "source": [
    "from sklearn.ensemble import RandomForestRegressor\n",
    "\n",
    "clf = RandomForestRegressor(n_estimators=25, random_state=0)\n",
    "clf.fit(x,y)\n",
    "clf.feature_importances_\n",
    "\n",
    "features_imp = pd.DataFrame({\"p\": clf.feature_importances_, \"names\": data.feature_names})\n",
    "features_imp"
   ]
  },
  {
   "cell_type": "code",
   "execution_count": 244,
   "metadata": {},
   "outputs": [
    {
     "data": {
      "text/plain": "array([1.28116952e-01, 8.85118501e-03, 2.90079067e-03, 1.80711287e-03,\n       1.94277098e-02, 6.45321420e-04, 1.17653537e-02, 8.23631900e-04,\n       2.47208402e-03, 6.07368012e-02, 0.00000000e+00, 2.91044776e-04,\n       7.62162013e-01])"
     },
     "execution_count": 244,
     "metadata": {},
     "output_type": "execute_result"
    }
   ],
   "source": [
    "clf.feature_importances_"
   ]
  },
  {
   "cell_type": "code",
   "execution_count": 245,
   "metadata": {
    "deletable": false,
    "nbgrader": {
     "cell_type": "code",
     "checksum": "b5ee09a3a2cf0bdabd490fd0db006475",
     "grade": false,
     "grade_id": "cell-5eb696ddf9162ce3",
     "locked": false,
     "schema_version": 3,
     "solution": true,
     "task": false
    }
   },
   "outputs": [],
   "source": [
    "important_feature_1 = \"proline\" # название самого важного признака\n",
    "important_feature_2 = \"alcohol\" # название второго по значимости признака\n"
   ]
  },
  {
   "cell_type": "markdown",
   "metadata": {
    "deletable": false,
    "editable": false,
    "id": "V3_T1dkjkHtg",
    "nbgrader": {
     "cell_type": "markdown",
     "checksum": "30e1381dab63da428c3d9b1ef2b81fca",
     "grade": false,
     "grade_id": "cell-c6249fafab5fa2da",
     "locked": true,
     "schema_version": 3,
     "solution": false,
     "task": false
    }
   },
   "source": [
    "2. Загрузите данные load_wine из sklearn.datasets. Из обучающей части исключите объекты класса 2. **Отмасштабируйте признаки, используя класс StandardScaler с гиперпараметрами по умолчанию.** Обучите случайный лес, задав только гиперпараметры  `n_estimators = 25` и `random_state=0`. Оцените важность признаков. Укажите название двух наиболее важных признаков."
   ]
  },
  {
   "cell_type": "code",
   "execution_count": 246,
   "metadata": {},
   "outputs": [
    {
     "data": {
      "text/plain": "           p                         names\n0   0.128117                       alcohol\n1   0.008851                    malic_acid\n2   0.002901                           ash\n3   0.001807             alcalinity_of_ash\n4   0.019428                     magnesium\n5   0.000645                 total_phenols\n6   0.011765                    flavanoids\n7   0.000824          nonflavanoid_phenols\n8   0.002472               proanthocyanins\n9   0.060737               color_intensity\n10  0.000000                           hue\n11  0.000291  od280/od315_of_diluted_wines\n12  0.762162                       proline",
      "text/html": "<div>\n<style scoped>\n    .dataframe tbody tr th:only-of-type {\n        vertical-align: middle;\n    }\n\n    .dataframe tbody tr th {\n        vertical-align: top;\n    }\n\n    .dataframe thead th {\n        text-align: right;\n    }\n</style>\n<table border=\"1\" class=\"dataframe\">\n  <thead>\n    <tr style=\"text-align: right;\">\n      <th></th>\n      <th>p</th>\n      <th>names</th>\n    </tr>\n  </thead>\n  <tbody>\n    <tr>\n      <th>0</th>\n      <td>0.128117</td>\n      <td>alcohol</td>\n    </tr>\n    <tr>\n      <th>1</th>\n      <td>0.008851</td>\n      <td>malic_acid</td>\n    </tr>\n    <tr>\n      <th>2</th>\n      <td>0.002901</td>\n      <td>ash</td>\n    </tr>\n    <tr>\n      <th>3</th>\n      <td>0.001807</td>\n      <td>alcalinity_of_ash</td>\n    </tr>\n    <tr>\n      <th>4</th>\n      <td>0.019428</td>\n      <td>magnesium</td>\n    </tr>\n    <tr>\n      <th>5</th>\n      <td>0.000645</td>\n      <td>total_phenols</td>\n    </tr>\n    <tr>\n      <th>6</th>\n      <td>0.011765</td>\n      <td>flavanoids</td>\n    </tr>\n    <tr>\n      <th>7</th>\n      <td>0.000824</td>\n      <td>nonflavanoid_phenols</td>\n    </tr>\n    <tr>\n      <th>8</th>\n      <td>0.002472</td>\n      <td>proanthocyanins</td>\n    </tr>\n    <tr>\n      <th>9</th>\n      <td>0.060737</td>\n      <td>color_intensity</td>\n    </tr>\n    <tr>\n      <th>10</th>\n      <td>0.000000</td>\n      <td>hue</td>\n    </tr>\n    <tr>\n      <th>11</th>\n      <td>0.000291</td>\n      <td>od280/od315_of_diluted_wines</td>\n    </tr>\n    <tr>\n      <th>12</th>\n      <td>0.762162</td>\n      <td>proline</td>\n    </tr>\n  </tbody>\n</table>\n</div>"
     },
     "execution_count": 246,
     "metadata": {},
     "output_type": "execute_result"
    }
   ],
   "source": [
    "from sklearn.preprocessing import StandardScaler\n",
    "\n",
    "sc = StandardScaler()\n",
    "\n",
    "x_sc = pd.DataFrame(sc.fit_transform(x), columns=x.columns, index=x.index)\n",
    "\n",
    "clf = RandomForestRegressor(n_estimators=25, random_state=0)\n",
    "clf.fit(x_sc,y)\n",
    "clf.feature_importances_\n",
    "\n",
    "features_imp = pd.DataFrame({\"p\": clf.feature_importances_, \"names\": data.feature_names})\n",
    "features_imp"
   ]
  },
  {
   "cell_type": "code",
   "execution_count": 247,
   "metadata": {
    "deletable": false,
    "id": "0yQfA9lUkOLg",
    "nbgrader": {
     "cell_type": "code",
     "checksum": "71a9e3bf24e36ba44e9f1c145378e8e1",
     "grade": false,
     "grade_id": "cell-98b8857d24064851",
     "locked": false,
     "schema_version": 3,
     "solution": true,
     "task": false
    }
   },
   "outputs": [],
   "source": [
    "important_feature_1 = \"proline\" # название самого важного признака\n",
    "important_feature_2 = \"alcohol\" # название второго по значимости признака"
   ]
  },
  {
   "cell_type": "markdown",
   "metadata": {
    "deletable": false,
    "editable": false,
    "id": "30upVFxqjtII",
    "nbgrader": {
     "cell_type": "markdown",
     "checksum": "91a1a6bbbaeaa2ad47425084804770a2",
     "grade": false,
     "grade_id": "cell-98497ab6e796d680",
     "locked": true,
     "schema_version": 3,
     "solution": false,
     "task": false
    }
   },
   "source": [
    "Ниже приведена неполная реализация класса Bagging который имеет методы `fit` для обучения бэггинга над `DecisionTreeRegressor` и метод `predict` для предсказания. Допишите необходимый код, чтобы реализовать бэггинг."
   ]
  },
  {
   "cell_type": "markdown",
   "metadata": {
    "deletable": false,
    "editable": false,
    "id": "7hLyrAJW2ntE",
    "nbgrader": {
     "cell_type": "markdown",
     "checksum": "08599aa432456d921786ae48b1006f46",
     "grade": false,
     "grade_id": "cell-bb87a9551072f99c",
     "locked": true,
     "schema_version": 3,
     "solution": false,
     "task": false
    }
   },
   "source": [
    "Используемые переменные в коде:\n",
    "- `self.n_estimators`, `n_estimators` - число используемых деревьев.\n",
    "- `self.regressors` - список объектов класса `DecisionTreeRegressor`, к которым уже был применён метод `fit`. Данный список необъодимо заполнить в методе `fit` и использовать для предсказания в методе `predict`.\n",
    "- `ind`-  выбранные индексы объектов при бутстрапе.\n",
    "\n",
    "при создании объекта класса `DecisionTreeRegressor` зафиксируйте  \n",
    "`random_state=0`"
   ]
  },
  {
   "cell_type": "code",
   "execution_count": 248,
   "metadata": {
    "id": "q6jU2AoCkmZQ"
   },
   "outputs": [],
   "source": [
    "import numpy as np\n",
    "from sklearn.tree import DecisionTreeRegressor\n",
    "\n",
    "class Bagging:\n",
    "    def __init__(self, n_estimators):\n",
    "        self.n_estimators = n_estimators\n",
    "        self.regressors = []\n",
    "    def fit(self, x_train, y_train):\n",
    "        for i in range(self.n_estimators):\n",
    "            clf = DecisionTreeRegressor(random_state=0)\n",
    "            ind = np.random.choice(np.arange(x_train.shape[0]), size = x_train.shape[0])\n",
    "            clf.fit(x_train.loc[ind], y_train.loc[ind])\n",
    "            self.regressors.append(clf)\n",
    "        return self.regressors\n",
    "    def predict(self, x_test):\n",
    "        res1 = np.zeros(x_test.shape[0])\n",
    "        for clf in self.regressors:\n",
    "            res1 += clf.predict(x_test)\n",
    "        return res1"
   ]
  },
  {
   "cell_type": "markdown",
   "metadata": {
    "deletable": false,
    "editable": false,
    "id": "3d3O4PEdkgWL",
    "nbgrader": {
     "cell_type": "markdown",
     "checksum": "e237e1d4cc3e606249e43aaa7db72f27",
     "grade": false,
     "grade_id": "cell-55d03dbd4e87ba80",
     "locked": true,
     "schema_version": 3,
     "solution": false,
     "task": false
    }
   },
   "source": [
    "Загрузим данные:"
   ]
  },
  {
   "cell_type": "code",
   "execution_count": 249,
   "metadata": {
    "colab": {
     "base_uri": "https://localhost:8080/",
     "height": 39,
     "resources": {
      "http://localhost:8080/nbextensions/google.colab/files.js": {
       "data": "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",
       "headers": [
        [
         "content-type",
         "application/javascript"
        ]
       ],
       "ok": true,
       "status": 200,
       "status_text": ""
      }
     }
    },
    "id": "WGAZLuOwkcTA",
    "outputId": "1cc3769e-83f8-48ab-e869-d33e7e1ddaca"
   },
   "outputs": [
    {
     "data": {
      "text/plain": "        0         1         2         3         4         5         6    \\\n0  0.510632 -1.313935 -0.114209 -0.143679  2.107414  1.507354 -0.315861   \n1  0.538866  0.387687 -1.137239 -1.092431  0.038607  1.142312 -0.321904   \n2 -0.068804  0.776603 -1.611731 -1.239927  0.712057  2.075371 -1.462034   \n3 -0.884799 -0.620779  0.841720 -1.129511 -0.966720 -1.577867  0.058787   \n4 -0.701277  0.614840  0.434146 -0.126249 -0.591696  0.500336  1.018807   \n\n        7         8         9    ...       91        92        93        94   \\\n0 -1.030258  0.644616  0.531194  ... -0.892854 -0.699436  0.442937  1.134091   \n1 -0.237227 -1.451496 -0.385336  ... -0.056560  1.248607 -0.346863 -0.973055   \n2  1.151911  1.269848  0.725593  ...  1.989607 -0.021897 -0.372160 -0.870986   \n3  0.223962 -1.005101  0.113334  ...  0.214109 -1.083825 -0.476753 -0.904678   \n4  0.848046 -0.817596 -0.060330  ... -0.257656 -1.565868  0.049286  0.239042   \n\n        95        96        97        98        99          100  \n0 -0.355533 -1.355772  0.363396  1.294192  0.750299  -37.192781  \n1  1.042978 -0.404316  0.028007 -2.658630 -2.001785 -220.464123  \n2  1.192751 -0.062865  0.209232 -0.350511  0.409299 -325.380249  \n3 -0.637636 -0.741085 -0.126770 -1.063897 -0.003012 -126.861161  \n4 -1.047043  0.191627  0.071640  0.766967  1.570351   92.835567  \n\n[5 rows x 101 columns]",
      "text/html": "<div>\n<style scoped>\n    .dataframe tbody tr th:only-of-type {\n        vertical-align: middle;\n    }\n\n    .dataframe tbody tr th {\n        vertical-align: top;\n    }\n\n    .dataframe thead th {\n        text-align: right;\n    }\n</style>\n<table border=\"1\" class=\"dataframe\">\n  <thead>\n    <tr style=\"text-align: right;\">\n      <th></th>\n      <th>0</th>\n      <th>1</th>\n      <th>2</th>\n      <th>3</th>\n      <th>4</th>\n      <th>5</th>\n      <th>6</th>\n      <th>7</th>\n      <th>8</th>\n      <th>9</th>\n      <th>...</th>\n      <th>91</th>\n      <th>92</th>\n      <th>93</th>\n      <th>94</th>\n      <th>95</th>\n      <th>96</th>\n      <th>97</th>\n      <th>98</th>\n      <th>99</th>\n      <th>100</th>\n    </tr>\n  </thead>\n  <tbody>\n    <tr>\n      <th>0</th>\n      <td>0.510632</td>\n      <td>-1.313935</td>\n      <td>-0.114209</td>\n      <td>-0.143679</td>\n      <td>2.107414</td>\n      <td>1.507354</td>\n      <td>-0.315861</td>\n      <td>-1.030258</td>\n      <td>0.644616</td>\n      <td>0.531194</td>\n      <td>...</td>\n      <td>-0.892854</td>\n      <td>-0.699436</td>\n      <td>0.442937</td>\n      <td>1.134091</td>\n      <td>-0.355533</td>\n      <td>-1.355772</td>\n      <td>0.363396</td>\n      <td>1.294192</td>\n      <td>0.750299</td>\n      <td>-37.192781</td>\n    </tr>\n    <tr>\n      <th>1</th>\n      <td>0.538866</td>\n      <td>0.387687</td>\n      <td>-1.137239</td>\n      <td>-1.092431</td>\n      <td>0.038607</td>\n      <td>1.142312</td>\n      <td>-0.321904</td>\n      <td>-0.237227</td>\n      <td>-1.451496</td>\n      <td>-0.385336</td>\n      <td>...</td>\n      <td>-0.056560</td>\n      <td>1.248607</td>\n      <td>-0.346863</td>\n      <td>-0.973055</td>\n      <td>1.042978</td>\n      <td>-0.404316</td>\n      <td>0.028007</td>\n      <td>-2.658630</td>\n      <td>-2.001785</td>\n      <td>-220.464123</td>\n    </tr>\n    <tr>\n      <th>2</th>\n      <td>-0.068804</td>\n      <td>0.776603</td>\n      <td>-1.611731</td>\n      <td>-1.239927</td>\n      <td>0.712057</td>\n      <td>2.075371</td>\n      <td>-1.462034</td>\n      <td>1.151911</td>\n      <td>1.269848</td>\n      <td>0.725593</td>\n      <td>...</td>\n      <td>1.989607</td>\n      <td>-0.021897</td>\n      <td>-0.372160</td>\n      <td>-0.870986</td>\n      <td>1.192751</td>\n      <td>-0.062865</td>\n      <td>0.209232</td>\n      <td>-0.350511</td>\n      <td>0.409299</td>\n      <td>-325.380249</td>\n    </tr>\n    <tr>\n      <th>3</th>\n      <td>-0.884799</td>\n      <td>-0.620779</td>\n      <td>0.841720</td>\n      <td>-1.129511</td>\n      <td>-0.966720</td>\n      <td>-1.577867</td>\n      <td>0.058787</td>\n      <td>0.223962</td>\n      <td>-1.005101</td>\n      <td>0.113334</td>\n      <td>...</td>\n      <td>0.214109</td>\n      <td>-1.083825</td>\n      <td>-0.476753</td>\n      <td>-0.904678</td>\n      <td>-0.637636</td>\n      <td>-0.741085</td>\n      <td>-0.126770</td>\n      <td>-1.063897</td>\n      <td>-0.003012</td>\n      <td>-126.861161</td>\n    </tr>\n    <tr>\n      <th>4</th>\n      <td>-0.701277</td>\n      <td>0.614840</td>\n      <td>0.434146</td>\n      <td>-0.126249</td>\n      <td>-0.591696</td>\n      <td>0.500336</td>\n      <td>1.018807</td>\n      <td>0.848046</td>\n      <td>-0.817596</td>\n      <td>-0.060330</td>\n      <td>...</td>\n      <td>-0.257656</td>\n      <td>-1.565868</td>\n      <td>0.049286</td>\n      <td>0.239042</td>\n      <td>-1.047043</td>\n      <td>0.191627</td>\n      <td>0.071640</td>\n      <td>0.766967</td>\n      <td>1.570351</td>\n      <td>92.835567</td>\n    </tr>\n  </tbody>\n</table>\n<p>5 rows × 101 columns</p>\n</div>"
     },
     "execution_count": 249,
     "metadata": {},
     "output_type": "execute_result"
    }
   ],
   "source": [
    "import pandas as pd\n",
    "Data = pd.read_csv('data.csv', header=None)\n",
    "Data.head()"
   ]
  },
  {
   "cell_type": "markdown",
   "metadata": {
    "deletable": false,
    "editable": false,
    "id": "3nqAF3xSxINs",
    "nbgrader": {
     "cell_type": "markdown",
     "checksum": "47a7eaea43dc36a0fa32a12a77d51d56",
     "grade": false,
     "grade_id": "cell-a6227b535495775d",
     "locked": true,
     "schema_version": 3,
     "solution": false,
     "task": false
    }
   },
   "source": [
    "Положим матрицу объекты-признаки в переменную `X`, а ответы в переменную `y`"
   ]
  },
  {
   "cell_type": "code",
   "execution_count": 250,
   "metadata": {
    "id": "Gme29o-QxXpW"
   },
   "outputs": [],
   "source": [
    "X, y = Data.iloc[:, :100], Data.iloc[:, 100]"
   ]
  },
  {
   "cell_type": "markdown",
   "metadata": {
    "deletable": false,
    "editable": false,
    "id": "Z9Vzjd9uk1rc",
    "nbgrader": {
     "cell_type": "markdown",
     "checksum": "01adf9b526cc1b7fc355374fe95dfdad",
     "grade": false,
     "grade_id": "cell-f4da234adce23b73",
     "locked": true,
     "schema_version": 3,
     "solution": false,
     "task": false
    }
   },
   "source": [
    "\n",
    "Положим первые 6000 объектов в обучающую часть, остальные объекты в тестовую часть"
   ]
  },
  {
   "cell_type": "code",
   "execution_count": 251,
   "metadata": {
    "id": "EgUzGnlvk2st"
   },
   "outputs": [],
   "source": [
    "x_train, y_train = X[:6000], y[:6000]\n",
    "x_test, y_test = X[6000:], y[6000:]"
   ]
  },
  {
   "cell_type": "markdown",
   "metadata": {
    "deletable": false,
    "editable": false,
    "id": "aU9wrsEQk9BU",
    "nbgrader": {
     "cell_type": "markdown",
     "checksum": "9169a1e3de51a638eb48124cf7a70379",
     "grade": false,
     "grade_id": "cell-cf4dd3c5633aa792",
     "locked": true,
     "schema_version": 3,
     "solution": false,
     "task": false
    }
   },
   "source": [
    "3. Обучите бэггинг на 1 дереве. Оцените качество по метрике MSE на тестовой части. Ответ разделите на 1000 и округлите до целой части по математичестким правилам округления."
   ]
  },
  {
   "cell_type": "code",
   "execution_count": 252,
   "metadata": {},
   "outputs": [
    {
     "data": {
      "text/plain": "          0         1         2         3         4         5         6   \\\n1   0.538866  0.387687 -1.137239 -1.092431  0.038607  1.142312 -0.321904   \n5  -1.354484 -0.575030  0.057537  0.394266  0.599022  1.145227 -1.695668   \n10 -1.483267  0.450512  0.363827  1.021946 -0.546046  1.151513 -0.576073   \n\n          7         8         9   ...        90        91        92        93  \\\n1  -0.237227 -1.451496 -0.385336  ...  0.368106 -0.056560  1.248607 -0.346863   \n5   0.608802 -0.311880 -1.279464  ...  0.219585 -0.469389 -0.384748  0.955584   \n10 -0.842228  0.369223 -1.188187  ...  0.580653 -1.495937  0.982722  0.900810   \n\n          94        95        96        97        98        99  \n1  -0.973055  1.042978 -0.404316  0.028007 -2.658630 -2.001785  \n5  -2.224103  0.021449  1.661154  0.771143 -1.214351  0.459548  \n10  0.957337  0.082910 -0.592495  0.427414 -0.158039  0.961785  \n\n[3 rows x 100 columns]",
      "text/html": "<div>\n<style scoped>\n    .dataframe tbody tr th:only-of-type {\n        vertical-align: middle;\n    }\n\n    .dataframe tbody tr th {\n        vertical-align: top;\n    }\n\n    .dataframe thead th {\n        text-align: right;\n    }\n</style>\n<table border=\"1\" class=\"dataframe\">\n  <thead>\n    <tr style=\"text-align: right;\">\n      <th></th>\n      <th>0</th>\n      <th>1</th>\n      <th>2</th>\n      <th>3</th>\n      <th>4</th>\n      <th>5</th>\n      <th>6</th>\n      <th>7</th>\n      <th>8</th>\n      <th>9</th>\n      <th>...</th>\n      <th>90</th>\n      <th>91</th>\n      <th>92</th>\n      <th>93</th>\n      <th>94</th>\n      <th>95</th>\n      <th>96</th>\n      <th>97</th>\n      <th>98</th>\n      <th>99</th>\n    </tr>\n  </thead>\n  <tbody>\n    <tr>\n      <th>1</th>\n      <td>0.538866</td>\n      <td>0.387687</td>\n      <td>-1.137239</td>\n      <td>-1.092431</td>\n      <td>0.038607</td>\n      <td>1.142312</td>\n      <td>-0.321904</td>\n      <td>-0.237227</td>\n      <td>-1.451496</td>\n      <td>-0.385336</td>\n      <td>...</td>\n      <td>0.368106</td>\n      <td>-0.056560</td>\n      <td>1.248607</td>\n      <td>-0.346863</td>\n      <td>-0.973055</td>\n      <td>1.042978</td>\n      <td>-0.404316</td>\n      <td>0.028007</td>\n      <td>-2.658630</td>\n      <td>-2.001785</td>\n    </tr>\n    <tr>\n      <th>5</th>\n      <td>-1.354484</td>\n      <td>-0.575030</td>\n      <td>0.057537</td>\n      <td>0.394266</td>\n      <td>0.599022</td>\n      <td>1.145227</td>\n      <td>-1.695668</td>\n      <td>0.608802</td>\n      <td>-0.311880</td>\n      <td>-1.279464</td>\n      <td>...</td>\n      <td>0.219585</td>\n      <td>-0.469389</td>\n      <td>-0.384748</td>\n      <td>0.955584</td>\n      <td>-2.224103</td>\n      <td>0.021449</td>\n      <td>1.661154</td>\n      <td>0.771143</td>\n      <td>-1.214351</td>\n      <td>0.459548</td>\n    </tr>\n    <tr>\n      <th>10</th>\n      <td>-1.483267</td>\n      <td>0.450512</td>\n      <td>0.363827</td>\n      <td>1.021946</td>\n      <td>-0.546046</td>\n      <td>1.151513</td>\n      <td>-0.576073</td>\n      <td>-0.842228</td>\n      <td>0.369223</td>\n      <td>-1.188187</td>\n      <td>...</td>\n      <td>0.580653</td>\n      <td>-1.495937</td>\n      <td>0.982722</td>\n      <td>0.900810</td>\n      <td>0.957337</td>\n      <td>0.082910</td>\n      <td>-0.592495</td>\n      <td>0.427414</td>\n      <td>-0.158039</td>\n      <td>0.961785</td>\n    </tr>\n  </tbody>\n</table>\n<p>3 rows × 100 columns</p>\n</div>"
     },
     "execution_count": 252,
     "metadata": {},
     "output_type": "execute_result"
    }
   ],
   "source": [
    "l = [1, 5, 10]\n",
    "x_train.loc[l]"
   ]
  },
  {
   "cell_type": "code",
   "execution_count": 253,
   "metadata": {
    "scrolled": true
   },
   "outputs": [
    {
     "data": {
      "text/plain": "[DecisionTreeRegressor(random_state=0)]"
     },
     "execution_count": 253,
     "metadata": {},
     "output_type": "execute_result"
    }
   ],
   "source": [
    "bagg_1 = Bagging(n_estimators=1)\n",
    "bagg_1.fit(x_train, y_train)"
   ]
  },
  {
   "cell_type": "code",
   "execution_count": 254,
   "metadata": {
    "pycharm": {
     "name": "#%%\n"
    }
   },
   "outputs": [
    {
     "data": {
      "text/plain": "33.23991529045641"
     },
     "execution_count": 254,
     "metadata": {},
     "output_type": "execute_result"
    }
   ],
   "source": [
    "from sklearn.metrics import mean_squared_error\n",
    "import math\n",
    "\n",
    "mean_ = mean_squared_error(y_test, bagg_1.predict(x_test)/1)\n",
    "\n",
    "answer = (mean_/1000) # (mse / 1000)\n",
    "answer"
   ]
  },
  {
   "cell_type": "markdown",
   "metadata": {
    "deletable": false,
    "editable": false,
    "id": "XRmiSEn8lEju",
    "nbgrader": {
     "cell_type": "markdown",
     "checksum": "c7e82d69a143d1c2653a82fe66ffcc87",
     "grade": false,
     "grade_id": "cell-6a22228ead28b45d",
     "locked": true,
     "schema_version": 3,
     "solution": false,
     "task": false
    }
   },
   "source": [
    "4. Обучите бэггинг на 5 деревьях. Оцените качество по метрике MSE на тестовой части. Ответ разделите на 1000 и округлите до целой части по математичестким правилам округления."
   ]
  },
  {
   "cell_type": "code",
   "execution_count": 255,
   "metadata": {},
   "outputs": [
    {
     "data": {
      "text/plain": "16.039343896237128"
     },
     "execution_count": 255,
     "metadata": {},
     "output_type": "execute_result"
    }
   ],
   "source": [
    "bagg_5 = Bagging(n_estimators=5)\n",
    "bagg_5.fit(x_train, y_train)\n",
    "\n",
    "mean_ = mean_squared_error(y_test, bagg_5.predict(x_test)/5)\n",
    "\n",
    "answer = (mean_/1000) # (mse / 1000)\n",
    "answer"
   ]
  },
  {
   "cell_type": "markdown",
   "metadata": {
    "deletable": false,
    "editable": false,
    "id": "QzXNbEBblQgn",
    "nbgrader": {
     "cell_type": "markdown",
     "checksum": "76bc0896cf2a5d10839cf2efc4bb010e",
     "grade": false,
     "grade_id": "cell-b19baf6c29e89d3d",
     "locked": true,
     "schema_version": 3,
     "solution": false,
     "task": false
    }
   },
   "source": [
    "5. Обучите бэггинг на 25 деревьях. Оцените качество по метрике MSE на тестовой части. Ответ разделите на 1000 и округлите до целой части по математичестким правилам округления."
   ]
  },
  {
   "cell_type": "code",
   "execution_count": 256,
   "metadata": {},
   "outputs": [
    {
     "data": {
      "text/plain": "11.654998910814248"
     },
     "execution_count": 256,
     "metadata": {},
     "output_type": "execute_result"
    }
   ],
   "source": [
    "bagg_25 = Bagging(n_estimators=25)\n",
    "bagg_25.fit(x_train, y_train)\n",
    "\n",
    "mean_ = mean_squared_error(y_test, bagg_25.predict(x_test)/25)\n",
    "\n",
    "answer = (mean_/1000) # (mse / 1000)\n",
    "answer\n"
   ]
  },
  {
   "cell_type": "markdown",
   "metadata": {
    "deletable": false,
    "editable": false,
    "id": "U70oTX93lZfH",
    "nbgrader": {
     "cell_type": "markdown",
     "checksum": "15e792b08111907c210c58f040b1c3c5",
     "grade": false,
     "grade_id": "cell-7c738245a0ef1c85",
     "locked": true,
     "schema_version": 3,
     "solution": false,
     "task": false
    }
   },
   "source": [
    "6. Обучите на этих же данных **случайный лес** из sklearn, используйте гиперпараметр `n_estimators = 1`, зафиксируйте  \n",
    "`random_state=0`. Оцените качество по метрике MSE на тестовой части. Ответ разделите на 1000 и округлите до целой части по математичестким правилам округления."
   ]
  },
  {
   "cell_type": "code",
   "execution_count": 257,
   "metadata": {},
   "outputs": [
    {
     "data": {
      "text/plain": "35110.29557469027"
     },
     "execution_count": 257,
     "metadata": {},
     "output_type": "execute_result"
    }
   ],
   "source": [
    "from sklearn.ensemble import RandomForestRegressor\n",
    "from sklearn.metrics import mean_squared_error\n",
    "\n",
    "\n",
    "rfr = RandomForestRegressor(n_estimators = 1, random_state=0)\n",
    "rfr.fit(x_train, y_train)\n",
    "mean_squared_error(y_test, rfr.predict(x_test))"
   ]
  },
  {
   "cell_type": "code",
   "execution_count": 258,
   "metadata": {
    "deletable": false,
    "id": "EuQorK1ald7U",
    "nbgrader": {
     "cell_type": "code",
     "checksum": "8a22b0dadad818d80f9078405de76a0c",
     "grade": false,
     "grade_id": "cell-591b9431c28fcca3",
     "locked": false,
     "schema_version": 3,
     "solution": true,
     "task": false
    }
   },
   "outputs": [
    {
     "data": {
      "text/plain": "35"
     },
     "execution_count": 258,
     "metadata": {},
     "output_type": "execute_result"
    }
   ],
   "source": [
    "answer = int(mean_squared_error(y_test, rfr.predict(x_test))/1000) # (mse / 1000) округление до целой части\n",
    "answer\n"
   ]
  },
  {
   "cell_type": "markdown",
   "metadata": {
    "id": "Uu-4AVFSl9xJ"
   },
   "source": [
    "7. Обучите на этих же данных случайный лес, используйте гиперпараметр `n_estimators = 5`, зафиксируйте  \n",
    "`random_state=0`. Оцените качество по метрике MSE на тестовой части. Ответ разделите на 1000 и округлите до целой части по математичестким правилам округления."
   ]
  },
  {
   "cell_type": "code",
   "execution_count": 259,
   "metadata": {},
   "outputs": [
    {
     "data": {
      "text/plain": "15433.247634965592"
     },
     "execution_count": 259,
     "metadata": {},
     "output_type": "execute_result"
    }
   ],
   "source": [
    "rfr = RandomForestRegressor(n_estimators = 5, random_state=0)\n",
    "rfr.fit(x_train, y_train)\n",
    "mean_squared_error(y_test, rfr.predict(x_test))"
   ]
  },
  {
   "cell_type": "code",
   "execution_count": 260,
   "metadata": {
    "deletable": false,
    "id": "o03d3MNNl-5Z",
    "nbgrader": {
     "cell_type": "code",
     "checksum": "cb1a32fd3b3b80503dd5ecdc0086c66a",
     "grade": false,
     "grade_id": "cell-7c4c253578c4aac6",
     "locked": false,
     "schema_version": 3,
     "solution": true,
     "task": false
    }
   },
   "outputs": [
    {
     "data": {
      "text/plain": "15"
     },
     "execution_count": 260,
     "metadata": {},
     "output_type": "execute_result"
    }
   ],
   "source": [
    "answer = int(mean_squared_error(y_test, rfr.predict(x_test))/1000) # (mse / 1000) округление до целой части\n",
    "answer"
   ]
  },
  {
   "cell_type": "markdown",
   "metadata": {
    "id": "uVvI1KOvmCV1"
   },
   "source": [
    "8. Обучите на этих же данных случайный лес, используйте гиперпараметр `n_estimators = 25`, зафиксируйте  \n",
    "`random_state=0`. Оцените качество по метрике MSE на тестовой части. Ответ разделите на 1000 и округлите до целой части по математичестким правилам округления."
   ]
  },
  {
   "cell_type": "code",
   "execution_count": 261,
   "metadata": {},
   "outputs": [
    {
     "data": {
      "text/plain": "11495.891662709386"
     },
     "execution_count": 261,
     "metadata": {},
     "output_type": "execute_result"
    }
   ],
   "source": [
    "rfr = RandomForestRegressor(n_estimators = 25, random_state=0)\n",
    "rfr.fit(x_train, y_train)\n",
    "mean_squared_error(y_test, rfr.predict(x_test))"
   ]
  },
  {
   "cell_type": "code",
   "execution_count": 262,
   "metadata": {
    "deletable": false,
    "nbgrader": {
     "cell_type": "code",
     "checksum": "c0b60eb3c9500a5e406e97bcc83e87e5",
     "grade": false,
     "grade_id": "cell-39260747faae0792",
     "locked": false,
     "schema_version": 3,
     "solution": true,
     "task": false
    }
   },
   "outputs": [
    {
     "data": {
      "text/plain": "11"
     },
     "execution_count": 262,
     "metadata": {},
     "output_type": "execute_result"
    }
   ],
   "source": [
    "answer = int(mean_squared_error(y_test, rfr.predict(x_test))/1000) # (mse / 1000) округление до целой части\n",
    "answer\n"
   ]
  },
  {
   "cell_type": "markdown",
   "metadata": {
    "id": "TuC8uKXxmTAR"
   },
   "source": [
    "9. Изучите документацию и разберитесь как посчитать Out-of-bag ошибку в RandomForestRegressor. Обучите RandomForestRegressor с гиперпараметром `n_estimators=25` на обучающей части, зафиксируйте  \n",
    "`random_state=0`. Найдите Out-of-bag ошибку алгоритма. Ответ округлите до 2 знаков после запятой."
   ]
  },
  {
   "cell_type": "code",
   "execution_count": 263,
   "metadata": {},
   "outputs": [
    {
     "data": {
      "text/plain": "0.7022337792066637"
     },
     "execution_count": 263,
     "metadata": {},
     "output_type": "execute_result"
    }
   ],
   "source": [
    "rfr = RandomForestRegressor(n_estimators = 25, random_state=0, oob_score=True)\n",
    "rfr.fit(x_train, y_train)\n",
    "rfr.oob_score_\n",
    "# oob_error = 1 - rfr.oob_score_\n",
    "# oob_error"
   ]
  },
  {
   "cell_type": "code",
   "execution_count": 264,
   "metadata": {
    "deletable": false,
    "id": "6tj8UppYmUNH",
    "nbgrader": {
     "cell_type": "code",
     "checksum": "4637b58169050b5459589c1db38a5987",
     "grade": false,
     "grade_id": "cell-5d1e1a208c58ea32",
     "locked": false,
     "schema_version": 3,
     "solution": true,
     "task": false
    },
    "pycharm": {
     "name": "#%%\n"
    }
   },
   "outputs": [],
   "source": [
    "oob_score = round(rfr.oob_score_, 2) # Out-of-bag ошибка алгоритма, округление до сотых\n"
   ]
  }
 ],
 "metadata": {
  "colab": {
   "collapsed_sections": [],
   "name": "Copy of Task_8.ipynb",
   "provenance": []
  },
  "kernelspec": {
   "display_name": "Python 3",
   "language": "python",
   "name": "python3"
  },
  "language_info": {
   "codemirror_mode": {
    "name": "ipython",
    "version": 3
   },
   "file_extension": ".py",
   "mimetype": "text/x-python",
   "name": "python",
   "nbconvert_exporter": "python",
   "pygments_lexer": "ipython3",
   "version": "3.7.6"
  }
 },
 "nbformat": 4,
 "nbformat_minor": 1
}